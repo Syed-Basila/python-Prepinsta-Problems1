{
 "cells": [
  {
   "cell_type": "code",
   "execution_count": null,
   "id": "31b348be",
   "metadata": {},
   "outputs": [],
   "source": [
    "#1.Positive or Negative number\n",
    "number=int(input(\"enter a number to check positive or negative\"))\n",
    "if(number>=0):\n",
    "    print(\"given number is positive\")\n",
    "else:\n",
    "    print(\"given number is negative\")\n",
    "    "
   ]
  },
  {
   "cell_type": "code",
   "execution_count": null,
   "id": "76b17cbd",
   "metadata": {},
   "outputs": [],
   "source": [
    "#2.Even or Odd number\n",
    "check_num=int(input(\"enter a number\"))\n",
    "if(check_num//2==5):\n",
    "    print(\"given number is even\")\n",
    "else:\n",
    "    print(\"given number is odd\")"
   ]
  },
  {
   "cell_type": "code",
   "execution_count": null,
   "id": "ccce4fe4",
   "metadata": {},
   "outputs": [],
   "source": [
    "#3.Sum of First N Natural numbers\n",
    "num_count=int(input(\"enter a number\"))\n",
    "sum=0\n",
    "for i in range(num_count+1):\n",
    "    sum+=i \n",
    "print(sum)\n",
    "    "
   ]
  },
  {
   "cell_type": "code",
   "execution_count": null,
   "id": "29018635",
   "metadata": {},
   "outputs": [],
   "source": [
    "#4.Sum of numbers in a given range\n",
    "first_num=int(input(\"enter a number\"))\n",
    "second_num=int(input(\"enter a number\"))\n",
    "sum=0\n",
    "for i in range(first_num,second_num+1):\n",
    "    sum+=i\n",
    "print(sum)\n",
    "    "
   ]
  },
  {
   "cell_type": "code",
   "execution_count": null,
   "id": "2799e8e0",
   "metadata": {},
   "outputs": [],
   "source": [
    "#5.Greatest of two numbers\n",
    "first_num=int(input(\"enter a number\"))\n",
    "second_num=int(input(\"enter a number\"))\n",
    "if(first_num>second_num):\n",
    "    print(first_num)\n",
    "else:\n",
    "    print(second_num)"
   ]
  },
  {
   "cell_type": "code",
   "execution_count": null,
   "id": "d516259a",
   "metadata": {},
   "outputs": [],
   "source": [
    "#6.Greatest of the Three numbers\n",
    "first_num=int(input(\"enter a number\"))\n",
    "second_num=int(input(\"enter a number\"))\n",
    "third_num=int(input(\"enter a number\"))\n",
    "if(first_num>second_num and first_num>third_num):\n",
    "    print(first_num)\n",
    "elif(second_num>first_num and second_num>third_num):\n",
    "    print(second_num)\n",
    "else:\n",
    "    print(third_num)"
   ]
  },
  {
   "cell_type": "code",
   "execution_count": null,
   "id": "4ee24a5a",
   "metadata": {},
   "outputs": [],
   "source": [
    "#7.Leap year or not\n",
    "year=int(input(\"enter the year\"))\n",
    "if(year%400==0) or (year%4==0 and year%100!=0):\n",
    "    print(\"i\")\n"
   ]
  },
  {
   "cell_type": "code",
   "execution_count": null,
   "id": "39785b8f",
   "metadata": {},
   "outputs": [],
   "source": [
    "#8.prime number or not\n",
    "num=int(input(\"enter a number\"))\n",
    "sum=0\n",
    "for i in range(2,num):\n",
    "    if (num%i)==0:\n",
    "        print(num,\"not prime\")\n",
    "        break\n",
    "    else:\n",
    "        print(num,\"prime\")\n",
    "        break\n",
    "        "
   ]
  },
  {
   "cell_type": "code",
   "execution_count": null,
   "id": "b8e21f93",
   "metadata": {},
   "outputs": [],
   "source": [
    "#9.prime number with interval  (noted)\n",
    "start=3\n",
    "end=20\n",
    "for i in range(start,end+1):\n",
    "    for j in range(2,i):\n",
    "        if (i%j)==0:\n",
    "            break\n",
    "    else:\n",
    "        print(i)\n"
   ]
  },
  {
   "cell_type": "code",
   "execution_count": null,
   "id": "0f5b9a9e",
   "metadata": {},
   "outputs": [],
   "source": [
    "#10.Sum of digits of a number\n",
    "num=int(input())\n",
    "sum=0\n",
    "while num!=0:\n",
    "    sp=int(num%10) \n",
    "    sum+=sp   \n",
    "    num=num//10\n",
    "print(sum)"
   ]
  },
  {
   "cell_type": "code",
   "execution_count": null,
   "id": "adee87e4",
   "metadata": {},
   "outputs": [],
   "source": [
    "#11.Reverse a number\n",
    "num=int(input())\n",
    "sum=0\n",
    "while num!=0:\n",
    "    rem=num%10        # 123 3     === 12 2\n",
    "    sum=(sum*10)+rem  # 0*10 +3   === \n",
    "    num=num//10       # 123 12    ===\n",
    "print(sum)    #3 \n"
   ]
  },
  {
   "cell_type": "code",
   "execution_count": null,
   "id": "383b3287",
   "metadata": {},
   "outputs": [],
   "source": [
    "#12.palindrome or not\n",
    "num = int(input())\n",
    "temp=num\n",
    "sum=0\n",
    "while temp>0:\n",
    "    rem=temp%10\n",
    "    sum=(sum*10)+rem\n",
    "    temp=temp//10\n",
    "if num==sum:\n",
    "    print(\"palindrome\")\n",
    "else:\n",
    "    print(\" not palindrome\") "
   ]
  },
  {
   "cell_type": "code",
   "execution_count": null,
   "id": "e98eab20",
   "metadata": {},
   "outputs": [],
   "source": [
    "#13.amstrong number\n",
    "number =int(input())  #153 1^3 + 5^3 + 3^3 =153\n",
    "num = number   \n",
    "digit, sum = 0, 0\n",
    "length = len(str(num))\n",
    "for i in range(length):\n",
    "    digit = int(num%10) \n",
    "    num = num/10        \n",
    "    sum += pow(digit,length) \n",
    "if sum==number:\n",
    "    print(\"Armstrong\")\n",
    "else:\n",
    "    print(\"Not Armstrong\")"
   ]
  },
  {
   "cell_type": "code",
   "execution_count": null,
   "id": "54007864",
   "metadata": {},
   "outputs": [],
   "source": [
    "#14.Armstrong number in a given range\n",
    "low, high = 10, 10000\n",
    "for n in range(low, high + 1):\n",
    "    order = len(str(n))\n",
    "    sum = 0\n",
    "    temp = n\n",
    "    while temp > 0:\n",
    "        digit = temp % 10\n",
    "        sum += digit ** order\n",
    "        temp //= 10\n",
    "    if n == sum:\n",
    "        print(n, end=\", \")\n"
   ]
  },
  {
   "cell_type": "code",
   "execution_count": null,
   "id": "814b9bc5",
   "metadata": {},
   "outputs": [],
   "source": [
    "#15.fibonacci series\n",
    "num=int(input())\n",
    "n1=0\n",
    "n2=1\n",
    "print(n1,\"\\n\",n2)\n",
    "for i in range(2,num):\n",
    "    n3=n1+n2\n",
    "    n1=n2\n",
    "    n2=n3\n",
    "    print(n3)"
   ]
  },
  {
   "cell_type": "code",
   "execution_count": null,
   "id": "e613e622",
   "metadata": {},
   "outputs": [],
   "source": [
    "#16.Find the Nth Term of the Fibonacci Series \n",
    "num =int(input())\n",
    "n1, n2 = 0, 1\n",
    "print(\"Fibonacci Series:\", n1, n2, end=\" \")\n",
    "for i in range(2, num):\n",
    "    n3 = n1 + n2\n",
    "    n1 = n2\n",
    "    n2 = n3\n",
    "    print(n3, end=\" \")\n",
    "\n",
    "print()"
   ]
  },
  {
   "cell_type": "code",
   "execution_count": null,
   "id": "532cc761",
   "metadata": {},
   "outputs": [],
   "source": [
    "#17.Factorial of a number\n",
    "num=int(input())\n",
    "fact=1\n",
    "for i in range(1,num+1):\n",
    "    fact=fact*i\n",
    "print(fact)"
   ]
  },
  {
   "cell_type": "code",
   "execution_count": null,
   "id": "03971ee6",
   "metadata": {},
   "outputs": [],
   "source": [
    "#18.power of a number\n",
    "num=int(input())\n",
    "po=int(input())\n",
    "print(num**po)"
   ]
  },
  {
   "cell_type": "code",
   "execution_count": null,
   "id": "48af9084",
   "metadata": {},
   "outputs": [],
   "source": [
    "#19.Factor of a number\n",
    "num=int(input())\n",
    "for i in range(1,num+1):  \n",
    "    if (num % i)==0:\n",
    "        print(i)"
   ]
  },
  {
   "cell_type": "code",
   "execution_count": null,
   "id": "710451e3",
   "metadata": {},
   "outputs": [],
   "source": [
    "#20.Finding Prime Factors of a number\n",
    "n=int(input())\n",
    "factors = []\n",
    "divisor = 2\n",
    "while n > 1:\n",
    "    while n % divisor == 0:\n",
    "        factors.append(divisor)\n",
    "        n //= divisor \n",
    "    divisor += 1\n",
    "print(factors)\n"
   ]
  },
  {
   "cell_type": "code",
   "execution_count": null,
   "id": "683b003d",
   "metadata": {},
   "outputs": [],
   "source": [
    "#20.Finding Prime Factors of a number\n",
    "def is_prime(n):\n",
    "    if n <= 1:\n",
    "        return False\n",
    "    for i in range(2, int(n ** 0.5) + 1):\n",
    "        if n % i == 0:\n",
    "            return False\n",
    "    return True\n",
    "\n",
    "num = int(input(\"Enter a number: \"))\n",
    "prime_divisors = []\n",
    "\n",
    "for i in range(1, num + 1):\n",
    "    if (num % i) == 0:\n",
    "        if is_prime(i):\n",
    "            prime_divisors.append(i)\n",
    "\n",
    "print(\"Prime divisors are:\", prime_divisors)"
   ]
  },
  {
   "cell_type": "code",
   "execution_count": null,
   "id": "f56860f0",
   "metadata": {},
   "outputs": [],
   "source": [
    "#21.Strong number \n",
    "def factorial(n):\n",
    "    fact = 1\n",
    "    for i in range(1, n + 1):\n",
    "        fact *= i\n",
    "    return fact\n",
    "\n",
    "def is_strong_number(num):\n",
    "    sum = 0\n",
    "    orig = num\n",
    "\n",
    "    while num > 0:\n",
    "        digit = num % 10\n",
    "        sum += factorial(digit)\n",
    "        num //= 10\n",
    "    return orig == sum\n",
    "\n",
    "num = int(input(\"Enter a number: \"))\n",
    "if is_strong_number(num):\n",
    "    print(num, \"is a strong number.\")\n",
    "else:\n",
    "    print(num, \"is not a strong number.\")\n"
   ]
  },
  {
   "cell_type": "code",
   "execution_count": null,
   "id": "39eab54d",
   "metadata": {},
   "outputs": [],
   "source": [
    "#22.perfect number\n",
    "sum=0\n",
    "num=int(input())\n",
    "for i in range(1,num):\n",
    "    if(num%i==0):\n",
    "        sum=sum+i\n",
    "print(sum)"
   ]
  },
  {
   "cell_type": "code",
   "execution_count": null,
   "id": "3ba2f014",
   "metadata": {},
   "outputs": [],
   "source": [
    "#23.perfect square\n",
    "num=int(input())\n",
    "for i in range(1,num):\n",
    "    sum=i*i\n",
    "    if sum==num:\n",
    "        print(\"perfect square\")\n",
    "        break\n",
    "else:\n",
    "    print(\"not perfect square\")\n",
    "\n",
    "        "
   ]
  },
  {
   "cell_type": "code",
   "execution_count": null,
   "id": "33a43559",
   "metadata": {},
   "outputs": [],
   "source": [
    "#24.automorphic number\n",
    "num=int(input()) #5\n",
    "sq=pow(num,2)\n",
    "mod=pow(10,len(str(num)))\n",
    "if sq%mod==num:\n",
    "    print(\"automorphic number\")\n",
    "else:\n",
    "    print(\"not automorphic number\")"
   ]
  },
  {
   "cell_type": "code",
   "execution_count": null,
   "id": "f34f1def",
   "metadata": {},
   "outputs": [],
   "source": [
    "#25.harshad number  21 2+1=3 21/3\n",
    "n =int(input())\n",
    "p=n\n",
    "sum=0\n",
    "while(n>0):  \n",
    "    sum+=n%10\n",
    "    n=n//10\n",
    "if(p%sum==0):\n",
    "    print(\"Harshad number\")\n",
    "else:\n",
    "    print(\"Not harshad number\")"
   ]
  },
  {
   "cell_type": "code",
   "execution_count": null,
   "id": "3f0a8bc0",
   "metadata": {},
   "outputs": [],
   "source": [
    "#26.abundant number 12 12346 16>12\n",
    "num=int(input())\n",
    "sum=0\n",
    "for i in range(1,num):\n",
    "    if num%i==0:\n",
    "        sum=sum+i\n",
    "if sum>num:\n",
    "    print(\"it is abundant number\")\n",
    "else:\n",
    "    print(\"it is not abundant number\")"
   ]
  },
  {
   "cell_type": "code",
   "execution_count": null,
   "id": "1017e534",
   "metadata": {},
   "outputs": [],
   "source": [
    "#27.friendly pair 6 28 123/6 1247 14/28 =>1=1\n",
    "num1=int(input())\n",
    "num2=int(input())\n",
    "sum1,sum2=0,0\n",
    "for i in range(1,num1):\n",
    "    if num1%i==0:\n",
    "        sum1=sum1+i\n",
    "for j in range(1,num2):\n",
    "    if num2%j==0:\n",
    "        sum2=sum2+j\n",
    "if sum1/num1 ==sum2/num2:\n",
    "    print(\"friendly pair\")\n",
    "else:\n",
    "    print(\"not friendly pair\")"
   ]
  },
  {
   "cell_type": "code",
   "execution_count": null,
   "id": "d9fd2a0c",
   "metadata": {},
   "outputs": [],
   "source": [
    "#28.amicable numbers 220 284 220 sum(factors)(220=284   284=220)\n",
    "num1=int(input())\n",
    "num2=int(input())\n",
    "sum1,sum2=0,0\n",
    "for i in range(1,num1):\n",
    "    if num1%i==0:\n",
    "        sum1=sum1+i\n",
    "for j in range(1,num2):\n",
    "    if num2%j==0:\n",
    "        sum2=sum2+j\n",
    "if sum1==num2 and sum2==num1:\n",
    "    print(sum1,sum2,\"amicable numbers\")\n",
    "else:\n",
    "    print(\"not amicable numbers\")"
   ]
  },
  {
   "cell_type": "code",
   "execution_count": null,
   "id": "942dc4ac",
   "metadata": {},
   "outputs": [],
   "source": [
    "#29.highest common factor GCD (greatest common divisor)\n",
    "num1=int(input())\n",
    "num2=int(input())\n",
    "for i in range(1,min(num1,num2)):\n",
    "    if(num1%i==0)and(num2%i==0):\n",
    "        hcf=i\n",
    "print(hcf)"
   ]
  },
  {
   "cell_type": "code",
   "execution_count": null,
   "id": "7b2613c0",
   "metadata": {},
   "outputs": [],
   "source": [
    "#30.least common multiple\n",
    "num1 = int(input())\n",
    "num2 = int(input())\n",
    "for i in range(max(num1, num2), (num1 * num2)+1):\n",
    "    if i % num1 == i % num2 == 0:\n",
    "        lcm = i\n",
    "        break\n",
    "print(\"LCM of\", num1, \"and\", num2, \"is\", lcm) "
   ]
  },
  {
   "cell_type": "code",
   "execution_count": null,
   "id": "71d3a32e",
   "metadata": {},
   "outputs": [],
   "source": [
    "#31.Binary To Decimal Conversion\n",
    "bstr = input(\"Enter a binary number: \") #1101  1011   1+\n",
    "dvalue = 0\n",
    "bstr = bstr[::-1]\n",
    "for i, d in enumerate(bstr):\n",
    "    if d == '1':\n",
    "        dvalue += 2 ** i   \n",
    "print(f\"The decimal equivalent of binary {bstr[::-1]} is {dvalue}\")"
   ]
  },
  {
   "cell_type": "code",
   "execution_count": null,
   "id": "eeeb3f1c",
   "metadata": {},
   "outputs": [],
   "source": [
    "#32.Octal to decimal conversion\n",
    "ostr = input(\"Enter a binary number: \") #1101  1011   1+\n",
    "dvalue = 0\n",
    "ostr = ostr[::-1]\n",
    "for i, d in enumerate(ostr):\n",
    "        dvalue +=int(d) * (8 ** i)\n",
    "print(f\"The decimal equivalent of binary {ostr[::-1]} is {dvalue}\")"
   ]
  },
  {
   "cell_type": "code",
   "execution_count": null,
   "id": "681ff4c4",
   "metadata": {},
   "outputs": [],
   "source": [
    "#33.hexadecimal to decimal conversion\n",
    "hstr = input(\"Enter a hexadecimal number: \").strip()\n",
    "dvalue = 0\n",
    "hstr = hstr[::-1]\n",
    "hmap = {\n",
    "    '0': 0, '1': 1, '2': 2, '3': 3, '4': 4, '5': 5, '6': 6, '7': 7,\n",
    "    '8': 8, '9': 9, 'A': 10, 'B': 11, 'C': 12, 'D': 13, 'E': 14, 'F': 15,\n",
    "    'a': 10, 'b': 11, 'c': 12, 'd': 13, 'e': 14, 'f': 15\n",
    "}\n",
    "for i, d in enumerate(hstr):\n",
    "    dvalue += hmap[d] * (16 ** i)\n",
    "print(f\"The decimal equivalent of hexadecimal {hstr[::-1]} is {dvalue}\")\n"
   ]
  },
  {
   "cell_type": "code",
   "execution_count": null,
   "id": "9221f1ea",
   "metadata": {},
   "outputs": [],
   "source": [
    "#34.decimal to binary conversion\n",
    "dnum=int(input(\"enter a decimal number\"))\n",
    "bstr=\" \"\n",
    "while dnum>0:\n",
    "    rem=dnum%2\n",
    "    bstr=str(rem)+bstr\n",
    "    dnum=dnum//2\n",
    "print(f\"the binary equivalent of decimal is{bstr}\")"
   ]
  },
  {
   "cell_type": "code",
   "execution_count": null,
   "id": "19088d79",
   "metadata": {},
   "outputs": [],
   "source": [
    "#35.decimal to octal conversion\n",
    "dnum=int(input(\"enter a decimal number\"))\n",
    "ostr=\" \"\n",
    "while dnum>0:\n",
    "    rem=dnum%8\n",
    "    ostr=str(rem)+ostr\n",
    "    dnum=dnum//8\n",
    "print(f\"the binary equivalent of decimal is{ostr}\")"
   ]
  },
  {
   "cell_type": "code",
   "execution_count": null,
   "id": "0094d7a5",
   "metadata": {},
   "outputs": [],
   "source": [
    "#36.decimalto hexadecimal conversion\n",
    "dnum = int(input(\"Enter a decimal number: \"))\n",
    "hstr = \"\"\n",
    "hdigits = \"0123456789ABCDEF\"\n",
    "while dnum > 0:\n",
    "    rem = dnum % 16 \n",
    "    hstr = hdigits[rem] + hstr \n",
    "    dnum = dnum // 16 \n",
    "print(f\"The hexadecimal equivalent of the decimal number is {hstr}\")\n"
   ]
  },
  {
   "cell_type": "code",
   "execution_count": null,
   "id": "f379fb4c",
   "metadata": {},
   "outputs": [],
   "source": [
    "#37.binary to octal conversion\n",
    "bstr = input(\"Enter a binary number: \")\n",
    "bstr = bstr.zfill((len(bstr) + 2) // 3 * 3) #1 101 011  7+2//9\n",
    "ostr = \"\"\n",
    "for i in range(0, len(bstr), 3):\n",
    "    tdigits = bstr[i:i+3]\n",
    "    dvalue = int(tdigits, 2)\n",
    "    ostr += str(dvalue)\n",
    "print(f\"The octal equivalent of the binary number is {ostr}\")"
   ]
  },
  {
   "cell_type": "code",
   "execution_count": null,
   "id": "b7421b6f",
   "metadata": {},
   "outputs": [],
   "source": [
    "#38.octal to binary conversion\n",
    "ostr = input(\"Enter an octal number: \")\n",
    "bstr = \"\"\n",
    "octbi = {\n",
    "    '0': '000',\n",
    "    '1': '001',\n",
    "    '2': '010',\n",
    "    '3': '011',\n",
    "    '4': '100',\n",
    "    '5': '101',\n",
    "    '6': '110',\n",
    "    '7': '111'\n",
    "}\n",
    "for d in ostr:\n",
    "    bstr += octbi[d]\n",
    "print(f\"The binary equivalent of the octal number is {bstr}\")"
   ]
  },
  {
   "cell_type": "code",
   "execution_count": null,
   "id": "bae2d09e",
   "metadata": {},
   "outputs": [],
   "source": [
    "#39. quadrant in which the given co-ordinate lie\n",
    "x, y = map(int, list(input(\"Insert the value for variable X and Y : \").split(\" \")))\n",
    "if x > 0 and y > 0:\n",
    "    print(\"point (\", x, \",\", y, \") lies in the First quadrant\")\n",
    "elif x < 0 and y > 0:\n",
    "    print(\"point (\", x, \",\", y, \") lies in the Second quadrant\")\n",
    "elif x < 0 and y < 0: \n",
    "    print(\"point (\", x, \",\", y, \") lies in the Third quadrant\")\n",
    "elif x > 0 and y < 0:\n",
    "    print(\"point (\", x, \",\", y, \") lies in the Fourth quadrant\")\n",
    "elif x == 0 and y == 0:\n",
    "    print(\"point (\", x, \",\", y, \") lies at the origin\")\n",
    "elif y == 0 and x != 0:\n",
    "    print(\"point (\", x, \",\", y, \") on x-axis\")\n",
    "elif x == 0 and y != 0:\n",
    "    print(\"point (\", x, \",\", y, \") on at y-axis\")"
   ]
  },
  {
   "cell_type": "code",
   "execution_count": null,
   "id": "c03bea08",
   "metadata": {},
   "outputs": [],
   "source": [
    "#40.Permutations In Which N People Can Occupy R Seats In A Classroom\n",
    "def factorial(num):\n",
    "    fact = 1\n",
    "    for i in range(1,num+1):\n",
    "        fact *= i\n",
    "    return fact\n",
    "n = int(input(\"Enter number of people: \"))\n",
    "r = int(input(\"Enter number of seats: \"))\n",
    "p = factorial(n) // factorial(n - r)\n",
    "print(\"Total possible arrangements:\", p)"
   ]
  },
  {
   "cell_type": "code",
   "execution_count": null,
   "id": "5fae3344",
   "metadata": {},
   "outputs": [],
   "source": [
    "#41.Finding Maximum Number Of Handshakes\n",
    "N = 30\n",
    "no_of_handshakes = int(N * ((N - 1) / 2))\n",
    "print('Maximum number of handshakes possible for', N, 'pople are', no_of_handshakes)"
   ]
  },
  {
   "cell_type": "code",
   "execution_count": null,
   "id": "bd2b9fb5",
   "metadata": {},
   "outputs": [],
   "source": [
    "#42. Addition of two fractions\n",
    "def findGCD(n1, n2):\n",
    "    gcd = 0\n",
    "    for i in range(1, int(min(n1, n2)) + 1):\n",
    "        if n1 % i == 0 and n2 % i == 0:\n",
    "            gcd = i\n",
    "    return gcd\n",
    "num1, den1 = map(int, list(input(\"Enter numerator and denominator of first number : \").split(\" \")))\n",
    "num2, den2 = map(int, list(input(\"Enter numerator and denominator of second number: \").split(\" \")))\n",
    "lcm = (den1 * den2) // findGCD(den1, den2)\n",
    "sum = (num1 * lcm // den1) + (num2 * lcm // den2)\n",
    "num3 = sum // findGCD(sum, lcm)\n",
    "lcm = lcm // findGCD(sum, lcm)\n",
    "print(num1, \"/\", den1, \" + \", num2, \"/\", den2, \" = \", num3, \"/\", lcm)"
   ]
  },
  {
   "cell_type": "code",
   "execution_count": null,
   "id": "55fb394d",
   "metadata": {},
   "outputs": [],
   "source": [
    "#43.Replace All 0’s With 1 In A Given Integer\n",
    "n=int(input('Enter number: '))\n",
    "n=str(n) \n",
    "n=list(n)\n",
    "r=\"\"\n",
    "for i in range(len(n)):\n",
    "    if(n[i]=='0'):\n",
    "        n[i]='1'\n",
    "    r=r + n[i]  \n",
    "print(\"Converted number is :\",int(r))"
   ]
  },
  {
   "cell_type": "code",
   "execution_count": null,
   "id": "66664e72",
   "metadata": {},
   "outputs": [],
   "source": [
    "#44.Can A Number Be Expressed As A Sum Of Two Prime Numbers?\n",
    "def sieve_of_eratosthenes(max_num):\n",
    "    is_prime = [True] * (max_num + 1)\n",
    "    p = 2\n",
    "    while (p * p <= max_num):\n",
    "        if is_prime[p]:\n",
    "            for i in range(p * p, max_num + 1, p):\n",
    "                is_prime[i] = False\n",
    "        p += 1\n",
    "    prime_numbers = [p for p in range(2, max_num) if is_prime[p]]\n",
    "    return prime_numbers\n",
    "\n",
    "def find_prime_pairs(number):\n",
    "    if number < 4:\n",
    "        print(f\"No Prime numbers can give sum of {number}\")\n",
    "        return\n",
    "    primes = sieve_of_eratosthenes(number - 1)\n",
    "    primes_set = set(primes)\n",
    "    found = False\n",
    "    for prime in primes:\n",
    "        if (number - prime) in primes_set:\n",
    "            print(f\"{prime} and {number - prime} are prime numbers when added gives {number}\")\n",
    "            found = True\n",
    "            break\n",
    "    if not found:\n",
    "        print(f\"No Prime numbers can give sum of {number}\")\n",
    "# Take input\n",
    "Number = int(input('Enter the Number: '))\n",
    "\n",
    "# Find and print prime pairs\n",
    "find_prime_pairs(Number)"
   ]
  },
  {
   "cell_type": "code",
   "execution_count": null,
   "id": "d4ad4c02",
   "metadata": {},
   "outputs": [],
   "source": [
    "#45.Count possible decoding of a given digit sequence\n",
    "def cnt_decoding_digits(dig, a):\n",
    "    cnt = [0] * (a + 1)\n",
    "    cnt[0], cnt[1] = 1, 1\n",
    "\n",
    "    for k in range(2, a + 1):\n",
    "        cnt[k] = 0\n",
    "        cnt[k] = cnt[k - 1]\n",
    "\n",
    "        if dig[k - 2] == '1' or (dig[k - 2] == '2' and dig[k - 1] < '7'):\n",
    "            cnt[k] += cnt[k - 2]\n",
    "\n",
    "    return cnt[a]\n",
    "dig = input(\"Enter Number : \")\n",
    "print(\"Possible count of decoding of the sequence :\", cnt_decoding_digits(dig, len(dig)))"
   ]
  },
  {
   "cell_type": "code",
   "execution_count": null,
   "id": "ad7305ad",
   "metadata": {},
   "outputs": [],
   "source": [
    "#46.Calculate the area of a circle \n",
    "import math\n",
    "r=float(input(\"enter a number\"))\n",
    "area=(math.pi)*r*r \n",
    "print(\"The area of circle is\",end=\" \") \n",
    "print(area)"
   ]
  },
  {
   "cell_type": "code",
   "execution_count": null,
   "id": "3abb5dba",
   "metadata": {},
   "outputs": [],
   "source": [
    "#47.Find the prime numbers between 1 to 100\n",
    "def checkPrime(num):\n",
    "    if num < 2:\n",
    "        return 0\n",
    "    else:\n",
    "        x = num // 2\n",
    "        for j in range(2, x + 1):\n",
    "            if num % j == 0:\n",
    "                return 0\n",
    "    return 1\n",
    "a, b = 1, 100\n",
    "for i in range(a, b + 1):\n",
    "    if checkPrime(i):\n",
    "        print(i, end=\" \")"
   ]
  },
  {
   "cell_type": "code",
   "execution_count": null,
   "id": "8bf4e947",
   "metadata": {},
   "outputs": [],
   "source": [
    "#48.Calculate the number of digits in an integer \n",
    "digit = 0\n",
    "n = int(input())\n",
    "while n != 0:\n",
    "    n //= 10\n",
    "    digit += 1\n",
    "print(digit)"
   ]
  },
  {
   "cell_type": "code",
   "execution_count": null,
   "id": "a7fa9f9a",
   "metadata": {},
   "outputs": [],
   "source": [
    "#49.Convert digit/number to words \n",
    "def convert_to_words(num):\n",
    "    l = len(num)\n",
    "    if (l == 0):\n",
    "        print(\"empty string\")\n",
    "        return\n",
    "    if (l > 4):\n",
    "        print(\"Length more than 4 is not supported\")\n",
    "        return\n",
    "    single_digits = [\"zero\", \"one\", \"two\", \"three\", \"four\", \"five\", \"six\", \"seven\", \"eight\", \"nine\"]\n",
    "    two_digits = [\"\", \"ten\", \"eleven\", \"twelve\", \"thirteen\", \"fourteen\", \"fifteen\", \"sixteen\", \"seventeen\", \"eighteen\", \"nineteen\"]\n",
    "    tens_multiple = [\"\", \"\", \"twenty\", \"thirty\", \"forty\", \"fifty\", \"sixty\", \"seventy\", \"eighty\", \"ninety\"]\n",
    "    tens_power = [\"hundred\", \"thousand\"]\n",
    "    print(num, \":\", end=\" \")\n",
    "    if (l == 1):\n",
    "        print(single_digits[ord(num[0]) - 48])\n",
    "        return\n",
    "    x = 0\n",
    "    while (x < len(num)):\n",
    "        if (l >= 3):\n",
    "            if (ord(num[x]) - 48 != 0):\n",
    "                print(single_digits[ord(num[x]) - 48],\n",
    "                      end=\" \")\n",
    "                print(tens_power[l - 3], end=\" \")\n",
    "            l -= 1\n",
    "        else:\n",
    "            if (ord(num[x]) - 48 == 1):\n",
    "                sum = (ord(num[x]) - 48 +\n",
    "                       ord(num[x+1]) - 48)\n",
    "                print(two_digits[sum])\n",
    "                return\n",
    "            elif (ord(num[x]) - 48 == 2 and\n",
    "                  ord(num[x + 1]) - 48 == 0):\n",
    "                print(\"twenty\")\n",
    "                return\n",
    "            else:\n",
    "                i = ord(num[x]) - 48\n",
    "                if(i > 0):\n",
    "                    print(tens_multiple[i], end=\" \")\n",
    "                else:\n",
    "                    print(\"\", end=\"\")\n",
    "                x += 1\n",
    "                if(ord(num[x]) - 48 != 0):\n",
    "                    print(single_digits[ord(num[x]) - 48])\n",
    "        x += 1\n",
    "convert_to_words(\"131\") "
   ]
  },
  {
   "cell_type": "code",
   "execution_count": null,
   "id": "71628274",
   "metadata": {},
   "outputs": [],
   "source": [
    "#50.Counting number of days in a given month of a year\n",
    "month = 12\n",
    "year=2012\n",
    "    \n",
    "if((month==2) and ((year%4==0)  or ((year%100==0) and (year%400==0)))) :\n",
    "    print(\"Number of days is 29\");\n",
    "\n",
    "elif(month==2) :\n",
    "    print(\"Number of days is 28\");\n",
    "\n",
    "elif(month==1 or month==3 or month==5 or month==7 or month==8 or month==10 or month==12) :\n",
    "    print(\"Number of days is 31\");\n",
    "\n",
    "else :\n",
    "    print(\"Number of days is 30\");"
   ]
  },
  {
   "cell_type": "code",
   "execution_count": null,
   "id": "cee84669",
   "metadata": {},
   "outputs": [],
   "source": [
    "#51.Finding Number of times x digit occurs in a given input\n",
    "def countOccurrances(n, d):\n",
    "    count = 0\n",
    "    while (n > 0):\n",
    "        if(n % 10 == d):\n",
    "            count = count + 1\n",
    "        n = n // 10\n",
    "    return count\n",
    "d = int(input())\n",
    "n = int(input())\n",
    "print(countOccurrances(n, d))"
   ]
  },
  {
   "cell_type": "code",
   "execution_count": null,
   "id": "06083608",
   "metadata": {},
   "outputs": [],
   "source": [
    "#52.Finding number of integers which has exactly x divisors\n",
    "Number = 10\n",
    "Divisor = 3\n",
    "count = 0\n",
    "for i in range(1,Number+1):\n",
    "    count_factors = 0\n",
    "    for j in range(1,i+1):\n",
    "        if i % j == 0:\n",
    "            count_factors += 1\n",
    "        else:\n",
    "            pass\n",
    "    if count_factors == Divisor:\n",
    "        count +=1\n",
    "print(count)"
   ]
  },
  {
   "cell_type": "code",
   "execution_count": null,
   "id": "76bdd076",
   "metadata": {},
   "outputs": [],
   "source": [
    "#53.Finding Roots of a quadratic equation\n",
    "import math\n",
    " \n",
    "def findRoots(a, b, c):\n",
    " \n",
    "    if a == 0:\n",
    "        print(\"Invalid\")\n",
    "        return -1\n",
    "        \n",
    "    d = b * b - 4 * a * c\n",
    "    sqrt_val = math.sqrt(abs(d))\n",
    " \n",
    "    if d > 0:\n",
    "        print(\"Roots are real and different \")\n",
    "        print((-b + sqrt_val)/(2 * a))\n",
    "        print((-b - sqrt_val)/(2 * a))\n",
    "    elif d == 0:\n",
    "        print(\"Roots are real and same\")\n",
    "        print(-b / (2*a))\n",
    "    else:  # d<0\n",
    "        print(\"Roots are complex\")\n",
    "        print(- b / (2*a), \" + i\", sqrt_val)\n",
    "        print(- b / (2*a), \" - i\", sqrt_val)\n",
    "a = 1\n",
    "b = 4\n",
    "c = 4\n",
    "findRoots(a, b, c)"
   ]
  },
  {
   "cell_type": "code",
   "execution_count": null,
   "id": "44b514fb",
   "metadata": {},
   "outputs": [],
   "source": [
    "# Operations on Strings"
   ]
  },
  {
   "cell_type": "code",
   "execution_count": null,
   "id": "d835d599",
   "metadata": {},
   "outputs": [],
   "source": [
    "#54.vowels or consonant\n",
    "b=input()\n",
    "c=b.upper()\n",
    "if c=='A' or c=='E'  or c=='I'  or c=='O'  or c=='U':\n",
    "    print(\"it is vowel\")\n",
    "else:\n",
    "    print(\"it is consonant\")"
   ]
  },
  {
   "cell_type": "code",
   "execution_count": null,
   "id": "239e78d0",
   "metadata": {},
   "outputs": [],
   "source": [
    "#55.alphabet or not\n",
    "c=input()\n",
    "if 'A'<=c<='Z' or 'a'<=c<='z':\n",
    "    print(\"alphabet\")\n",
    "else:\n",
    "    print(\"not alphabet\")"
   ]
  },
  {
   "cell_type": "code",
   "execution_count": null,
   "id": "b06e701c",
   "metadata": {},
   "outputs": [],
   "source": [
    "#56.finding ascii value\n",
    "c=input()\n",
    "print(\"ascii value of\",c,\"is\",ord(c))"
   ]
  },
  {
   "cell_type": "code",
   "execution_count": null,
   "id": "582dc77e",
   "metadata": {},
   "outputs": [],
   "source": [
    "#57.Calculating the length of string Without using length() function\n",
    "string=input()\n",
    "count=0\n",
    "for i in string:\n",
    "    count+=1\n",
    "print(count)"
   ]
  },
  {
   "cell_type": "code",
   "execution_count": null,
   "id": "35e676a9",
   "metadata": {},
   "outputs": [],
   "source": [
    "#58.toggle each character in a string\n",
    "string=input()\n",
    "string1=\" \"\n",
    "for i in string:\n",
    "    if i.isupper():\n",
    "        i=i.lower()\n",
    "        string1=string1+i\n",
    "    else:\n",
    "        i=i.upper()\n",
    "        string1=string1+i\n",
    "print(string1)"
   ]
  },
  {
   "cell_type": "code",
   "execution_count": null,
   "id": "b23b1e83",
   "metadata": {},
   "outputs": [],
   "source": [
    "#59.count number of vowels in a string\n",
    "s=input()\n",
    "string=s.upper()\n",
    "count=0\n",
    "for i in string:\n",
    "    if i=='A' or i=='E' or i=='I' or i=='O' or i=='U':\n",
    "        count+=1\n",
    "print(count)"
   ]
  },
  {
   "cell_type": "code",
   "execution_count": null,
   "id": "4bcfbc11",
   "metadata": {},
   "outputs": [],
   "source": [
    "#60. Remove Vowels from a String\n",
    "string = input()\n",
    "vowels = ['a', 'e', 'i', 'o', 'u', 'A', 'E', 'I', 'O', 'U']\n",
    "result = \"\"\n",
    "for i in range(len(string)):\n",
    "    if string[i] not in vowels:\n",
    "        result = result + string[i]\n",
    "print(\"\\nAfter removing Vowels: \", result)"
   ]
  },
  {
   "cell_type": "code",
   "execution_count": null,
   "id": "10629f4b",
   "metadata": {},
   "outputs": [],
   "source": [
    "#61. palindrome or not\n",
    "string = input()\n",
    "rev = string[::-1]\n",
    "\n",
    "if string == rev:\n",
    "    print(rev + \" is Palindrome\")\n",
    "else:\n",
    "    print(rev + \" is not Palindrome\")"
   ]
  },
  {
   "cell_type": "code",
   "execution_count": null,
   "id": "824c09dd",
   "metadata": {},
   "outputs": [],
   "source": [
    "#62. Reverse a String \n",
    "string = input()\n",
    "rev = string[::-1]\n",
    "print(rev)"
   ]
  },
  {
   "cell_type": "code",
   "execution_count": null,
   "id": "888b018c",
   "metadata": {},
   "outputs": [],
   "source": [
    "#63. remove all character from string except alphabets\n",
    "s=input()\n",
    "t=\" \"\n",
    "for i in s:\n",
    "    if (i >= 'A' and i <= 'Z') or (i >= 'a' and i <= 'z'):\n",
    "        t += i\n",
    "print(t)"
   ]
  },
  {
   "cell_type": "code",
   "execution_count": null,
   "id": "e6bf8845",
   "metadata": {},
   "outputs": [],
   "source": [
    "#64.Remove Spaces from a String\n",
    "String = input()\n",
    "String = \"\".join(String.split()) \n",
    "print(\"After removing spaces string is :\",String)"
   ]
  },
  {
   "cell_type": "code",
   "execution_count": null,
   "id": "b3367dee",
   "metadata": {},
   "outputs": [],
   "source": [
    "#65. Remove brackets from an algebraic expression\n",
    "Exp = input()\n",
    "Equation = ''\n",
    "for i in Exp:\n",
    "    #if ord(i) == 41 or ord(i) == 40 or ord(i) == 91 or ord(i) == 93 or ord(i) == 123 or ord(i) == 125:\n",
    "    if i == \"(\" or i == \")\" or i == \"{\" or i == \"}\" or i == \"[\" or i == \"]\" :\n",
    "        pass\n",
    "    else:\n",
    "        Equation = Equation + i\n",
    "print(' String without bracket is ' + Equation)"
   ]
  },
  {
   "cell_type": "code",
   "execution_count": null,
   "id": "4eaf455b",
   "metadata": {},
   "outputs": [],
   "source": [
    "#66.Count the Sum of Numbers in a String\n",
    "String=input()\n",
    "sum1 = 0\n",
    "for i in String:\n",
    "    if ord(i) >= 48 and ord(i) <= 57:\n",
    "        sum1 = sum1 + int(i)\n",
    "print('Sum is :' + str(sum1))"
   ]
  },
  {
   "cell_type": "code",
   "execution_count": null,
   "id": "522c9d67",
   "metadata": {},
   "outputs": [],
   "source": [
    "#67.capitalize the first and last letter of each word of a string\n",
    "String = input('Enter the String :')\n",
    "String = String[0:1].upper() + String[1:len(String)-1] + String[len(String)-1:len(String)].upper()\n",
    "print(String)\n"
   ]
  },
  {
   "cell_type": "code",
   "execution_count": null,
   "id": "af9955e6",
   "metadata": {},
   "outputs": [],
   "source": [
    "#68. Calculate Frequency of a Characters in a String\n",
    "string = input()\n",
    "for i in string:\n",
    "    frequency = string.count(i)\n",
    "    print(str(i) + \": \" + str(frequency), end=\", \")"
   ]
  },
  {
   "cell_type": "code",
   "execution_count": null,
   "id": "2bac75cf",
   "metadata": {},
   "outputs": [],
   "source": [
    "#69.find non repeating characters in a string\n",
    "String =input()\n",
    "for i in String:\n",
    "    count = 0\n",
    "    for j in String:\n",
    "        if i == j:\n",
    "            count+=1\n",
    "        if count > 1:\n",
    "            break\n",
    "    if count == 1:\n",
    "        print(i,end = \" \")"
   ]
  },
  {
   "cell_type": "code",
   "execution_count": null,
   "id": "c0130a2b",
   "metadata": {},
   "outputs": [],
   "source": [
    "#70.check if two Strings are Anagram or not listen silent\n",
    "String1 = \"Listen\"\n",
    "String2 = \"Silent\"\n",
    "String1 = sorted(String1.lower())\n",
    "String2 = sorted(String2.lower())\n",
    "print(\"String1 after sorting: \", String1)\n",
    "print(\"String2 after sorting: \", String2)\n",
    "if String1 == String2:\n",
    "    print('Strings are anagram')\n",
    "else:\n",
    "    print('Strings are not anagram')"
   ]
  },
  {
   "cell_type": "code",
   "execution_count": null,
   "id": "655cca67",
   "metadata": {},
   "outputs": [],
   "source": [
    "#71.replace a substring in a string\n",
    "string=input(\"Enter String :\\n\")\n",
    "str1=input(\"Enter substring which has to be replaced :\\n\")\n",
    "str2=input(\"Enter substring with which str1 has to be replaced :\\n\")\n",
    "string=string.replace(str1,str2)\n",
    "print(\"String after replacement\")\n",
    "print(string)"
   ]
  },
  {
   "cell_type": "code",
   "execution_count": null,
   "id": "d7469435",
   "metadata": {},
   "outputs": [],
   "source": [
    "#72.Replacing a particular word with another word in a string\n",
    "org= \"I love Python programming\"\n",
    "new= org.replace(\"Python\", \"Java\")\n",
    "print(new) "
   ]
  },
  {
   "cell_type": "code",
   "execution_count": null,
   "id": "ef152322",
   "metadata": {},
   "outputs": [],
   "source": [
    "#73.Count Common Subsequence in two Strings ABC AB\n",
    "n=\"ABC\"\n",
    "m=\"AB\"\n",
    "l1,l2=len(n),len(m)\n",
    "cnt=[[0 for i in range(l2+1)] for i in range(l1+1)]\n",
    "for i in range(1,l1+1):\n",
    "    for j in range(1,l2+1):\n",
    "        if(n[i-1] == m[j-1]):\n",
    "            cnt[i][j] = 1 + cnt[i][j-1] + cnt[i-1][j]\n",
    "        else:\n",
    "            cnt[i][j] = cnt[i][j-1] + cnt[i-1][j] - cnt[i-1][j-1]\n",
    "print(cnt[l1][l2])"
   ]
  },
  {
   "cell_type": "code",
   "execution_count": null,
   "id": "3b67b94f",
   "metadata": {},
   "outputs": [],
   "source": [
    "#74.check if two strings match where one string contains wildcard characters\n",
    "def solve(a,b):\n",
    "    n,m=len(a),len(b)\n",
    "    if n==0 and m==0:\n",
    "        return True\n",
    "    if n > 1 and a[0] == '*' and m == 0:\n",
    "        return False\n",
    "    if (n > 1 and a[0] == '?') or (n != 0 and m !=0 and a[0] == b[0]):\n",
    "        return solve(a[1:],b[1:]);\n",
    "    if n !=0 and a[0] == '*':\n",
    "        return solve(a[1:],b) or solve(a,b[1:])\n",
    "    return False\n",
    "\n",
    "str1=\"Pyt*on\"\n",
    "str2=\"Python\"\n",
    "print(\"First string with wild characters :\" , str1)\n",
    "print(\"Second string without wild characters ::\" , str2)\n",
    "print(solve(str1,str2))"
   ]
  },
  {
   "cell_type": "code",
   "execution_count": null,
   "id": "3b62dfc5",
   "metadata": {},
   "outputs": [],
   "source": [
    "#75.Print All Lexicographic Permutations in Sorted Order \n",
    "ans = []\n",
    "def permute(a, l, r):\n",
    "    if l == r:\n",
    "        ans.append(''.join(a))\n",
    "    else:\n",
    "        for i in range(l, r):\n",
    "            a[l], a[i] = a[i], a[l]\n",
    "            permute(a, l + 1, r)\n",
    "            a[l], a[i] = a[i], a[l]\n",
    "string = \"ABC\"\n",
    "n = len(string)\n",
    "a = list(string)\n",
    "permute(a, 0, n)\n",
    "for i in sorted(ans):\n",
    "    print(i)"
   ]
  },
  {
   "cell_type": "code",
   "execution_count": null,
   "id": "0444d17d",
   "metadata": {},
   "outputs": [],
   "source": [
    "#Important Codes related to Arrays"
   ]
  },
  {
   "cell_type": "code",
   "execution_count": null,
   "id": "adfa8cdd",
   "metadata": {},
   "outputs": [],
   "source": [
    "#76.Find Largest element in an array using Python\n",
    "a = [10, 89, 9, 56, 4, 80, 8]\n",
    "max_element = a[0]\n",
    "for i in range(len(a)):  \n",
    "    if a[i] > max_element: # 10>10 =10 89>10 89 9>\n",
    "        max_element = a[i]\n",
    "print (max_element)"
   ]
  },
  {
   "cell_type": "code",
   "execution_count": null,
   "id": "5153df89",
   "metadata": {},
   "outputs": [],
   "source": [
    "#77.Find Smallest element in an array using Python\n",
    "arr = [10, 89, 9, 56, 4, 80, 8]\n",
    "mini = arr[0]\n",
    "\n",
    "for i in range(len(arr)):\n",
    "     if arr[i] < mini:\n",
    "        mini = arr[i]\n",
    "\n",
    "print (mini)"
   ]
  },
  {
   "cell_type": "code",
   "execution_count": null,
   "id": "5283e352",
   "metadata": {},
   "outputs": [],
   "source": [
    "#78.Find the Smallest and largest element in an array\n",
    "arr=[10,20,30,40,50]\n",
    "minv=arr[0]\n",
    "maxv=arr[0]\n",
    "for i in range(len(arr)):\n",
    "    if arr[i]<minv:\n",
    "        minv=arr[i]\n",
    "    if arr[i]>maxv:\n",
    "        maxv=arr[i]\n",
    "print(\"smallest\",minv) \n",
    "print(\"largest\",maxv)"
   ]
  },
  {
   "cell_type": "code",
   "execution_count": null,
   "id": "4ba70025",
   "metadata": {},
   "outputs": [],
   "source": [
    "#79.Find Second Smallest Element in an Array\n",
    "import math\n",
    "arr = [10, 13, 17, 11, 34, 21]\n",
    "arr.sort();\n",
    "print(arr[1])"
   ]
  },
  {
   "cell_type": "code",
   "execution_count": null,
   "id": "b91c4ca0",
   "metadata": {},
   "outputs": [],
   "source": [
    "#80.Calculate the sum of elements in an array\n",
    "ar=[10,37,6,67,82]\n",
    "sum=0\n",
    "for i in range(len(ar)):\n",
    "    sum=sum+ar[i]\n",
    "print(sum)\n",
    "    "
   ]
  },
  {
   "cell_type": "code",
   "execution_count": null,
   "id": "8270b2e7",
   "metadata": {},
   "outputs": [],
   "source": [
    "#81.Reverse an Array \n",
    "arr=[10,34.56,77,65,87]\n",
    "print(arr[::-1])    "
   ]
  },
  {
   "cell_type": "code",
   "execution_count": null,
   "id": "d2f27755",
   "metadata": {},
   "outputs": [],
   "source": [
    "#82.Sort first half in ascending order and second half in descending\n",
    "def printOrder(arr, n):\n",
    "    arr.sort()\n",
    "    mid = n // 2\n",
    "    \n",
    "    # Printing first half in ascending order\n",
    "    for i in range(mid):\n",
    "        print(arr[i])\n",
    "    \n",
    "    # Printing second half in descending order\n",
    "    for j in range(n - 1, mid - 1, -1):\n",
    "        print(arr[j])\n",
    "\n",
    "arr = [5, 4, 6, 2, 1, 3, 8, 9, 7]\n",
    "n = len(arr)\n",
    "printOrder(arr, n)\n",
    "\n"
   ]
  },
  {
   "cell_type": "code",
   "execution_count": null,
   "id": "e4be36ae",
   "metadata": {},
   "outputs": [],
   "source": [
    "#83.Sort the elements of an array\n",
    "numbers = [10, 30, 40, 20]\n",
    "numbers.sort()\n",
    "print(numbers)"
   ]
  },
  {
   "cell_type": "code",
   "execution_count": null,
   "id": "77d05133",
   "metadata": {},
   "outputs": [],
   "source": [
    "#84.Finding the frequency of elements in an array\n",
    "def countFrequency(arr, size):\n",
    "    for i in range(0, size):\n",
    "        flag = False\n",
    "        count = 0\n",
    "        for j in range(i+1, size):\n",
    "            if arr[i] == arr[j]:\n",
    "                flag = True\n",
    "                break\n",
    "        if flag == True:\n",
    "            continue\n",
    "        for j in range(0, i+1):\n",
    "            if arr[i] == arr[j]:\n",
    "                count += 1\n",
    "        print(\"{0}: {1}\".format(arr[i], count))\n",
    "arr = [5, 8, 5, 7, 8, 10]\n",
    "n = len(arr)\n",
    "countFrequency(arr, n)"
   ]
  },
  {
   "cell_type": "code",
   "execution_count": null,
   "id": "66cbc222",
   "metadata": {},
   "outputs": [],
   "source": [
    "#85.Sorting elements of an array by frequency\n",
    "from collections import Counter\n",
    "ini_list = [10, 20, 30, 40, 40, 50, 50, 50]\n",
    "\n",
    "# sorting on bais of frequency of elements\n",
    "result = [item for items, c in Counter(ini_list).most_common() for item in [items] * c]\n",
    "\n",
    "# printing final result\n",
    "print(str(result))"
   ]
  },
  {
   "cell_type": "code",
   "execution_count": null,
   "id": "ebaf9761",
   "metadata": {},
   "outputs": [],
   "source": [
    "#86.Finding the Longest Palindrome in an Array\n",
    "def isPalindrome(n):\n",
    "    divisor = 1\n",
    "    while n // divisor >= 10:\n",
    "        divisor *= 10\n",
    "    while n != 0:\n",
    "        leading = n // divisor\n",
    "        trailing = n % 10\n",
    "        if leading != trailing:\n",
    "            return False\n",
    "        n = (n % divisor) // 10\n",
    "        divisor //= 100    \n",
    "    return True\n",
    "def largestPalindrome(arr):\n",
    "    currentMax = -1\n",
    "    for num in arr:\n",
    "        if num > currentMax and isPalindrome(num):\n",
    "            currentMax = num\n",
    "    return currentMax\n",
    "arr = [1, 232, 5545455, 909090, 161]\n",
    "print(largestPalindrome(arr))"
   ]
  },
  {
   "cell_type": "code",
   "execution_count": null,
   "id": "06516931",
   "metadata": {},
   "outputs": [],
   "source": [
    "#87.Counting Distinct Elements in an Array\n",
    "def count(arr, n):\n",
    "    mp = dict()\n",
    "    count_dis=0\n",
    "    for i in range(n):\n",
    "        if arr[i] in mp.keys():\n",
    "            mp[arr[i]] += 1\n",
    "        else:\n",
    "            mp[arr[i]] = 1\n",
    "    print(len(mp))\n",
    "arr = [10, 30, 40, 20, 10, 20, 50, 10] \n",
    "n = len(arr) \n",
    "count(arr, n)"
   ]
  },
  {
   "cell_type": "code",
   "execution_count": null,
   "id": "7d6cd3b4",
   "metadata": {},
   "outputs": [],
   "source": [
    "#88.Finding  Repeating elements in an Array\n",
    "def count(arr, n):\n",
    "    mp = dict()\n",
    "    for i in range(n):\n",
    "        if arr[i] in mp.keys():\n",
    "            mp[arr[i]] += 1\n",
    "        else:\n",
    "            mp[arr[i]] = 1\n",
    "    for x in mp:\n",
    "        if mp[x]!=1 :\n",
    "            print(x)\n",
    "arr = [10, 30, 40, 20, 10, 20, 50, 10] \n",
    "n = len(arr) \n",
    "count(arr, n)"
   ]
  },
  {
   "cell_type": "code",
   "execution_count": null,
   "id": "4dddc523",
   "metadata": {},
   "outputs": [],
   "source": [
    "#89.Finding Non Repeating elements in an Array\n",
    "def count(arr):\n",
    "    n = len(arr)\n",
    "    visited = [False] * n  # Initialize visited list with False\n",
    "    for i in range(n):\n",
    "        if visited[i]:\n",
    "            continue\n",
    "        count = 1\n",
    "        for j in range(i + 1, n):\n",
    "            if arr[i] == arr[j]:\n",
    "                visited[j] = True\n",
    "                count += 1\n",
    "        if count == 1:\n",
    "            print(arr[i])\n",
    "arr = [10, 30, 40, 20, 10, 20, 50, 10]\n",
    "count(arr)"
   ]
  },
  {
   "cell_type": "code",
   "execution_count": null,
   "id": "75fa9abe",
   "metadata": {},
   "outputs": [],
   "source": [
    "#90.Removing Duplicate elements from an array \n",
    "def removeDuplicates(arr):\n",
    "    n = len(arr)\n",
    "    if n == 0 or n == 1:\n",
    "        return n\n",
    "    j = 0\n",
    "    for i in range(n - 1):\n",
    "        if arr[i] != arr[i + 1]:\n",
    "            arr[j] = arr[i]\n",
    "            j += 1\n",
    "    arr[j] = arr[-1]\n",
    "    j += 1\n",
    "    return j\n",
    "arr = [10, 20, 20, 30, 40, 40, 40, 50, 50]\n",
    "new_size = removeDuplicates(arr)\n",
    "for i in range(new_size):\n",
    "    print(arr[i], end=\" \")"
   ]
  },
  {
   "cell_type": "code",
   "execution_count": null,
   "id": "73bc5c9f",
   "metadata": {},
   "outputs": [],
   "source": [
    "#91.Finding Minimum scalar product of two vectors\n",
    "arr1 = [1, 2, 6, 3, 7]\n",
    "arr2 = [10, 7, 45, 3, 7]\n",
    "n = len(arr1)\n",
    "arr1.sort()\n",
    "arr2.sort(reverse=True)\n",
    "product = 0\n",
    "for i in range(n):\n",
    "    product += arr1[i]*arr2[i]\n",
    "print(product)"
   ]
  },
  {
   "cell_type": "code",
   "execution_count": null,
   "id": "1bec531d",
   "metadata": {},
   "outputs": [],
   "source": [
    "#92.Finding Maximum scalar product of two vectors in an array\n",
    "arr1 = [1, 2, 6, 3, 7]\n",
    "arr2 = [10, 7, 45, 3, 7]\n",
    "n = len(arr1)\n",
    "arr1.sort()\n",
    "arr2.sort()\n",
    "product = 0\n",
    "for i in range(n):\n",
    "    product += arr1[i]*arr2[i]\n",
    "print(product)"
   ]
  },
  {
   "cell_type": "code",
   "execution_count": null,
   "id": "f5c4048c",
   "metadata": {},
   "outputs": [],
   "source": [
    "#93.Counting the number of even and odd elements in an array\n",
    "arr = [1, 7, 8, 4, 5, 16, 8]\n",
    "n = len(arr)\n",
    "countEven = 0\n",
    "countodd = 0\n",
    "for i in range(0, n):\n",
    "    if arr[i]%2==0 :\n",
    "        countEven += 1\n",
    "    else:\n",
    "        countodd += 1\n",
    "\n",
    "print(\"Even Elements count : \" )\n",
    "print(countEven)\n",
    "\n",
    "print(\"Odd Elements count : \")\n",
    "print(countodd)"
   ]
  },
  {
   "cell_type": "code",
   "execution_count": null,
   "id": "373ba2db",
   "metadata": {},
   "outputs": [],
   "source": [
    "#94.Find all Symmetric pairs in an array \n",
    "def findPairs(pairs):\n",
    "    s = set()\n",
    "    for (x, y) in pairs:\n",
    "        s.add((x, y))\n",
    "        if (y, x) in s:\n",
    "            print((x, y))\n",
    "pairs = [(3, 4), (1, 2), (5, 2), (7, 10), (4, 3), (2, 5)]\n",
    "findPairs(pairs)"
   ]
  },
  {
   "cell_type": "code",
   "execution_count": null,
   "id": "c368d1dd",
   "metadata": {},
   "outputs": [],
   "source": [
    "#95.Find maximum product sub-array in a given array\n",
    "def maxSubarrayProduct(arr, n):\n",
    "    if n == 0:\n",
    "        return 0  \n",
    "    max_product = min_product = result = arr[0]\n",
    "    for i in range(1, n):\n",
    "        if arr[i] < 0:\n",
    "            max_product, min_product = min_product, max_product  \n",
    "        max_product = max(arr[i], max_product * arr[i])\n",
    "        min_product = min(arr[i], min_product * arr[i])\n",
    "        result = max(result, max_product)\n",
    "    return result\n",
    "arr = [1, -2, -3, 0, 7, -8, -2]\n",
    "n = len(arr)\n",
    "print(\"Maximum sub-array product is\", maxSubarrayProduct(arr, n))\n"
   ]
  },
  {
   "cell_type": "code",
   "execution_count": null,
   "id": "5b3b251e",
   "metadata": {},
   "outputs": [],
   "source": [
    "#96.Finding Arrays are disjoint or not\n",
    "def fun(l1,l2):\n",
    "    for i in range(0,len(l1)):\n",
    "        for j in range(0,len(l2)):\n",
    "            if(l1[i]==l2[j]):\n",
    "                return False\n",
    "    return True\n",
    "l1=list(map(int,input(\"Enter array1\").split()))\n",
    "l2=list(map(int,input(\"Enter array2\").split()))\n",
    "if(fun(l1,l2)):\n",
    "    print(\"Disjoint\")\n",
    "else:\n",
    "    print(\"Not disjoint\")"
   ]
  },
  {
   "cell_type": "code",
   "execution_count": null,
   "id": "0743a498",
   "metadata": {},
   "outputs": [],
   "source": [
    "#97.Determine Array is a subset of another array or not \n",
    "arr1 = {11, 12, 13, 21, 30, 70}\n",
    "arr2 = {11, 30, 70, 12}\n",
    " \n",
    "m = len(arr1)\n",
    "n = len(arr2)\n",
    " \n",
    "if(arr1.union(arr2)==arr1):\n",
    "    print(\"arr2[] is subset of arr1[] \",arr1)\n",
    "else:\n",
    "    print(\"arr2[] is not a subset of arr1[]\")"
   ]
  },
  {
   "cell_type": "code",
   "execution_count": null,
   "id": "fe7ac17d",
   "metadata": {},
   "outputs": [],
   "source": [
    "#98.Determine can all numbers of an array be made equal \n",
    "def check(array,length):\n",
    "     for i in range(0, length):\n",
    "            while array[i] % 2 == 0:\n",
    "                array[i] //= 2\n",
    "            while array[i] % 3 == 0:\n",
    "                array[i] //= 3\n",
    "\n",
    "    if array[i] != array[0]:\n",
    "         return False\n",
    "\n",
    "    return True\n",
    "\n",
    "#input array from user\n",
    "array = [50, 100, 75]\n",
    "\n",
    "#determine length of array and assign to length variable\n",
    "length=len(array)\n",
    "\n",
    "if check(array, length):\n",
    "     print(\"Yes, all the elements of an array can be made equal\")\n",
    "else:\n",
    "     print(\"No, all the elements of an array cannot be made equal\")"
   ]
  },
  {
   "cell_type": "code",
   "execution_count": null,
   "id": "fc592cca",
   "metadata": {},
   "outputs": [],
   "source": [
    "#99.Finding Minimum sum of absolute difference of given array\n",
    "import sys\n",
    "\n",
    "def sumOfMinAbsDifferences(arr,n):\n",
    "    result = sys.maxsize\n",
    "    \n",
    "    for i in range(0,n):\n",
    "        sum = 0;\n",
    "        for j in range(0, n):\n",
    "            sum += abs(arr[i]-arr[j])\n",
    "        result = min(result, sum)\n",
    "    return result;\n",
    "arr = [2, 5, 4, 3]\n",
    "n = len(arr)\n",
    "print( \"Required Sum = \", sumOfMinAbsDifferences(arr, n))"
   ]
  },
  {
   "cell_type": "code",
   "execution_count": null,
   "id": "77ce78fd",
   "metadata": {},
   "outputs": [],
   "source": [
    "#100.Sort an array according to the order defined by another array\n",
    "from collections import Counter\n",
    "def solve(arr1, arr2):\n",
    "    res = []\n",
    "    f = Counter(arr1)\n",
    "    for e in arr2:\n",
    "        res.extend([e]*f[e])\n",
    "        f[e] = 0\n",
    "    rem = list(sorted(filter(lambda x: f[x] != 0, f.keys())))\n",
    "    for e in rem:\n",
    "        res.extend([e]*f[e])\n",
    "         \n",
    "    return res\n",
    "arr1 = [ 20, 1, 20, 5, 7, 1, 9, 39, 6, 18, 18 ];\n",
    "arr2 = [ 20, 1, 18, 39 ];\n",
    "print(*solve(arr1, arr2))"
   ]
  },
  {
   "cell_type": "code",
   "execution_count": null,
   "id": "490539a8",
   "metadata": {},
   "outputs": [],
   "source": [
    "#101.Replace each element of the array by its rank in the array\n",
    "def changeArr(input1):\n",
    "    newArray = input1.copy()\n",
    "    newArray.sort()\n",
    "     \n",
    "    for i in range(len(input1)):\n",
    "        for j in range(len(newArray)):\n",
    "            if input1[i]==newArray[j]:\n",
    "                input1[i] = j+1;\n",
    "                break;\n",
    "arr = [100, 2, 70, 12 , 90]\n",
    "changeArr(arr)\n",
    "# Print the array elements\n",
    "print(arr)"
   ]
  },
  {
   "cell_type": "code",
   "execution_count": null,
   "id": "0cef5520",
   "metadata": {},
   "outputs": [],
   "source": [
    "#102.Finding  equilibrium index of an array\n",
    "def equilibrium(arr):\n",
    "    leftsum = 0\n",
    "    rightsum = 0\n",
    "    n = len(arr)\n",
    "    for i in range(n):\n",
    "        leftsum = 0\n",
    "        rightsum = 0\n",
    "        for j in range(i):\n",
    "            leftsum += arr[j] \n",
    "        for j in range(i + 1, n):\n",
    "            rightsum += arr[j]\n",
    "        if leftsum == rightsum:\n",
    "            return i\n",
    "    return -1\n",
    "arr = [-4, 1, 5, 2, -4, 4, 2]\n",
    "print ('Equilibrium index is ',equilibrium(arr))"
   ]
  },
  {
   "cell_type": "code",
   "execution_count": null,
   "id": "78452af1",
   "metadata": {},
   "outputs": [],
   "source": [
    "#103.Rotation of elements of array-left and right\n",
    "def leftRotate(arr, d, n):\n",
    "    for i in range(d):\n",
    "        leftRotatebyOne(arr, n)\n",
    "def leftRotatebyOne(arr, n):\n",
    "    temp = arr[0]\n",
    "    for i in range(n-1):\n",
    "        arr[i] = arr[i + 1]\n",
    "    arr[n-1] = temp\n",
    "def printArray(arr, size):\n",
    "    for i in range(size):\n",
    "        print (\"% d\"% arr[i], end =\" \")\n",
    "arr = [10, 20, 30, 40, 50, 60, 70]\n",
    "leftRotate(arr, 2, 7)\n",
    "printArray(arr, 7)"
   ]
  },
  {
   "cell_type": "code",
   "execution_count": null,
   "id": "1ad0b738",
   "metadata": {},
   "outputs": [],
   "source": [
    "#104.Block swap algorithm for array rotation\n",
    "def leftRotate(arr, d, n):\n",
    "    if(d == 0 or d == n):\n",
    "        return;\n",
    "    i = d\n",
    "    j = n - d\n",
    "    while (i != j):\n",
    "        if(i < j):\n",
    "            swap(arr, d - i, d + j - i, i)\n",
    "            j -= i\n",
    "        else:\n",
    "            swap(arr, d - i, d, j)\n",
    "            i -= j\n",
    "    swap(arr, d - i, d, i)\n",
    "def swap(arr, fi, si, d):\n",
    "    for i in range(d):\n",
    "        temp = arr[fi + i];\n",
    "        arr[fi + i] = arr[si + i];\n",
    "        arr[si + i] = temp;\n",
    "arr = [10, 20, 30, 40, 50, 60, 70]\n",
    "leftRotate(arr, 2, 7)\n",
    "for i in range(7):\n",
    "    print(arr[i], end = \" \")"
   ]
  },
  {
   "cell_type": "code",
   "execution_count": null,
   "id": "c8df86f3",
   "metadata": {},
   "outputs": [],
   "source": [
    "#105.Juggling algorithm for array rotation\n",
    "import math\n",
    "def leftRotate(arr, d, n): \n",
    "     for i in range(math.gcd(d, n)): \n",
    "        temp = arr[i] \n",
    "        j = i \n",
    "        while 1: \n",
    "            k = j + d \n",
    "            if k >= n:\n",
    "                k = k - n \n",
    "            if k == i: \n",
    "                break\n",
    "            arr[j] = arr[k] \n",
    "            j = k \n",
    "            arr[j] = temp \n",
    "arr =list(map(int,input(\"ENTER ARRAY ELEMENTS \").split()))\n",
    "n = len(arr)\n",
    "no_of_rotations = 2\n",
    "print(\"Array Elements before rotation : \")\n",
    "print(*arr) \n",
    "leftRotate(arr, no_of_rotations, n )\n",
    "print(\"\\nArray Elements after rotation : \")\n",
    "print(*arr)"
   ]
  },
  {
   "cell_type": "code",
   "execution_count": null,
   "id": "5359e740",
   "metadata": {},
   "outputs": [],
   "source": [
    "#106.Finding circular rotation of an array by k positions\n",
    "def rotateArray(arr, n, d):\n",
    "    temp = []\n",
    "    i = 0\n",
    "    while (i < d):\n",
    "        temp.append(arr[i])\n",
    "        i = i + 1\n",
    "    i = 0\n",
    "    while (d < n):\n",
    "        arr[i] = arr[d]\n",
    "        i = i + 1\n",
    "        d = d + 1\n",
    "    arr[:] = arr[: i] + temp\n",
    "    return arr"
   ]
  },
  {
   "cell_type": "code",
   "execution_count": 3,
   "id": "bc95644a",
   "metadata": {},
   "outputs": [
    {
     "name": "stdout",
     "output_type": "stream",
     "text": [
      "Given string is balanced : True\n"
     ]
    }
   ],
   "source": [
    "#107.Balanced parathesis problem\n",
    "def isbalanced(s):\n",
    "    c= 0\n",
    "    ans=False\n",
    "    for i in s:\n",
    "        if i == \"(\": \n",
    "            c += 1\n",
    "        elif i == \")\":\n",
    "            c-= 1\n",
    "        if c < 0:\n",
    "            return ans\n",
    "        if c==0:\n",
    "            return not ans\n",
    "    return ans\n",
    "s=\"{[]}\"\n",
    "print(\"Given string is balanced :\",isbalanced(s))"
   ]
  },
  {
   "cell_type": "code",
   "execution_count": null,
   "id": "7e058c8f",
   "metadata": {},
   "outputs": [],
   "source": []
  }
 ],
 "metadata": {
  "kernelspec": {
   "display_name": "Python 3 (ipykernel)",
   "language": "python",
   "name": "python3"
  },
  "language_info": {
   "codemirror_mode": {
    "name": "ipython",
    "version": 3
   },
   "file_extension": ".py",
   "mimetype": "text/x-python",
   "name": "python",
   "nbconvert_exporter": "python",
   "pygments_lexer": "ipython3",
   "version": "3.11.5"
  }
 },
 "nbformat": 4,
 "nbformat_minor": 5
}
